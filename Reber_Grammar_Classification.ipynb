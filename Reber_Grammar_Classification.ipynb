{
  "nbformat": 4,
  "nbformat_minor": 0,
  "metadata": {
    "colab": {
      "name": "Reber Grammar Classification",
      "provenance": [],
      "authorship_tag": "ABX9TyMLWp92onQSsMNmC1e3dL5m",
      "include_colab_link": true
    },
    "kernelspec": {
      "name": "python3",
      "display_name": "Python 3"
    },
    "language_info": {
      "name": "python"
    }
  },
  "cells": [
    {
      "cell_type": "markdown",
      "metadata": {
        "id": "view-in-github",
        "colab_type": "text"
      },
      "source": [
        "<a href=\"https://colab.research.google.com/github/Akshatpattiwar512/Recurrent-Neural-Network/blob/main/Reber_Grammar_Classification.ipynb\" target=\"_parent\"><img src=\"https://colab.research.google.com/assets/colab-badge.svg\" alt=\"Open In Colab\"/></a>"
      ]
    },
    {
      "cell_type": "code",
      "metadata": {
        "id": "MapJnr5ouRO7"
      },
      "source": [
        "#importing libraries\n",
        "import numpy as np\n",
        "import pandas as pd\n",
        "import matplotlib.pyplot as plt\n",
        "import tensorflow as tf\n",
        "from tensorflow import keras"
      ],
      "execution_count": 26,
      "outputs": []
    },
    {
      "cell_type": "code",
      "metadata": {
        "id": "WAvW3-i-t5j_"
      },
      "source": [
        "default_reber_grammar=[\n",
        "    [(\"B\",1)],  #(state 0) =B=> (state 1)\n",
        "    [(\"T\", 2),(\"P\", 3)],  # (state 1) =T=> (state 2) or =P=> (state 3)\n",
        "    [(\"X\", 5), (\"S\", 2)], # (state 2) =X=> (state 5) or =S=> (state 2)\n",
        "    [(\"T\", 3), (\"V\", 4)], # (state 3) =T=> (state 3) or =V=> (state 4)\n",
        "    [(\"V\", 6), (\"P\", 5)], # (state 4) =V=> (state 6) or =P=> (state 5)\n",
        "    [(\"X\",3), (\"S\", 6)],  # (state 5) =X=> (state 3) or =S=> (state 6)\n",
        "    [(\"E\", None)]         # (state 6) =E=> <EOS>\n",
        "    \n",
        "]"
      ],
      "execution_count": 1,
      "outputs": []
    },
    {
      "cell_type": "code",
      "metadata": {
        "id": "x-77PB-Ct-lO"
      },
      "source": [
        "embedded_reber_grammar=[\n",
        "    [(\"B\",1)],  #(state 0) =B=> (state 1)\n",
        "    [(\"T\", 2),(\"P\", 3)],  # (state 1) =T=> (state 2) or =P=> (state 3)\n",
        "    [(default_reber_grammar,4)], # (state 2) =REBER=> (state 4)\n",
        "    [(default_reber_grammar,5)], # (state 3) =REBER=> (state 5)\n",
        "    [(\"P\", 6)], # (state 4) =P=> (state 6)\n",
        "    [(\"T\",6)],  # (state 5) =T=> (state 3)\n",
        "    [(\"E\", None)]         # (state 6) =E=> <EOS>\n",
        "    \n",
        "]"
      ],
      "execution_count": 2,
      "outputs": []
    },
    {
      "cell_type": "markdown",
      "metadata": {
        "id": "K_jdk0sJviSr"
      },
      "source": [
        "## Data generation\n",
        " "
      ]
    },
    {
      "cell_type": "code",
      "metadata": {
        "id": "8DrrLvjAuBfF"
      },
      "source": [
        "def generate_valid_string(grammar):\n",
        "    state = 0\n",
        "    output = []\n",
        "    while state is not None:\n",
        "        char, state = grammar[state][np.random.randint(len(grammar[state]))]\n",
        "        if isinstance(char, list):  # embedded reber\n",
        "            char = generate_valid_string(char)\n",
        "        output.append(char)\n",
        "    return \"\".join(output)"
      ],
      "execution_count": 3,
      "outputs": []
    },
    {
      "cell_type": "code",
      "metadata": {
        "id": "zd6FiIOAuEhV"
      },
      "source": [
        "def generate_corrupted_string(grammar, chars='BTSXPVE'):\n",
        "    '''Substitute one character to violate the grammar'''\n",
        "    good_string = generate_valid_string(grammar)\n",
        "    idx = np.random.randint(len(good_string))\n",
        "    good_char = good_string[idx]\n",
        "    bad_char = np.random.choice(sorted(set(chars)-set(good_char)))\n",
        "    return good_string[:idx]+bad_char+good_string[idx+1:]"
      ],
      "execution_count": 4,
      "outputs": []
    },
    {
      "cell_type": "code",
      "metadata": {
        "colab": {
          "base_uri": "https://localhost:8080/"
        },
        "id": "bw3FBQyBuGlw",
        "outputId": "27ff3b35-cf73-467d-f9ed-5418d7a6a8f8"
      },
      "source": [
        "chars='BTSXPVE'\n",
        "chars_dict = {a:i for i,a in enumerate(chars)}\n",
        "chars_dict"
      ],
      "execution_count": 5,
      "outputs": [
        {
          "output_type": "execute_result",
          "data": {
            "text/plain": [
              "{'B': 0, 'E': 6, 'P': 4, 'S': 2, 'T': 1, 'V': 5, 'X': 3}"
            ]
          },
          "metadata": {
            "tags": []
          },
          "execution_count": 5
        }
      ]
    },
    {
      "cell_type": "code",
      "metadata": {
        "id": "oWuMuTt0uINR"
      },
      "source": [
        "def str2onehot(string, num_steps=12, chars_dict=chars_dict):\n",
        "    res = np.zeros((num_steps, len(chars_dict)))\n",
        "    for i in range(min(len(string), num_steps)):\n",
        "        c = string[i]\n",
        "        res[i][chars_dict[c]] = 1\n",
        "    return res"
      ],
      "execution_count": 6,
      "outputs": []
    },
    {
      "cell_type": "code",
      "metadata": {
        "id": "SvXvvylpuKj6"
      },
      "source": [
        "def generate_data(data_size=10000, grammar=embedded_reber_grammar, num_steps=None):\n",
        "    good = [generate_valid_string(grammar) for _ in range(data_size//2)]\n",
        "    bad = [generate_corrupted_string(grammar) for _ in range(data_size//2)]\n",
        "    all_strings = good+bad\n",
        "    if num_steps is None:\n",
        "        num_steps = max([len(s) for s in all_strings])\n",
        "    X = np.array([str2onehot(s) for s in all_strings])\n",
        "    l = np.array([len(s) for s in all_strings])\n",
        "    y = np.concatenate((np.ones(len(good)), np.zeros((len(bad))))).reshape(-1, 1)\n",
        "    idx = np.random.permutation(data_size)\n",
        "    return X[idx], l[idx], y[idx]"
      ],
      "execution_count": 7,
      "outputs": []
    },
    {
      "cell_type": "code",
      "metadata": {
        "colab": {
          "base_uri": "https://localhost:8080/"
        },
        "id": "PkkKwXY-uMPw",
        "outputId": "e246908b-701c-4f64-a088-998aaa5e8c56"
      },
      "source": [
        "np.random.seed(42)\n",
        "X_train, seq_lens_train, y_train = generate_data(10000)\n",
        "X_val, seq_lens_val, y_val = generate_data(5000)\n",
        "X_train.shape, X_val.shape"
      ],
      "execution_count": 10,
      "outputs": [
        {
          "output_type": "execute_result",
          "data": {
            "text/plain": [
              "((10000, 12, 7), (5000, 12, 7))"
            ]
          },
          "metadata": {
            "tags": []
          },
          "execution_count": 10
        }
      ]
    },
    {
      "cell_type": "markdown",
      "metadata": {
        "id": "sh3B-89-v0d7"
      },
      "source": [
        "## Model building"
      ]
    },
    {
      "cell_type": "code",
      "metadata": {
        "id": "NK8uG1PZuNrs"
      },
      "source": [
        "x = keras.layers.Input(shape=(12, 7)) # we define our input's shape\n",
        "# first we define our RNN cells to use in the RNN model\n",
        "# let's keep the model simple ...\n",
        "cell = keras.layers.SimpleRNNCell(4, activation='tanh')  # ... by just using 4 units (like 4 units in hidden layers)\n",
        "rnn = keras.layers.RNN(cell)\n",
        "rnn_output = rnn(x)"
      ],
      "execution_count": 17,
      "outputs": []
    },
    {
      "cell_type": "code",
      "metadata": {
        "id": "rzzazclruVw-"
      },
      "source": [
        "output = keras.layers.Dense(units=1, activation='sigmoid')(rnn_output)"
      ],
      "execution_count": 19,
      "outputs": []
    },
    {
      "cell_type": "code",
      "metadata": {
        "colab": {
          "base_uri": "https://localhost:8080/"
        },
        "id": "P7XJvl-Wurzj",
        "outputId": "9d6f8ce7-a24a-4ddb-b44d-e70bfaadf20d"
      },
      "source": [
        "# let's compile the model\n",
        "model = keras.Model(inputs=x, outputs=output)\n",
        "# loss is binary cropss entropy since this is a binary classification task\n",
        "# and evaluation metric as f1\n",
        "model.compile(loss=\"binary_crossentropy\", metrics=[\"accuracy\"])\n",
        "model.summary()"
      ],
      "execution_count": 20,
      "outputs": [
        {
          "output_type": "stream",
          "text": [
            "Model: \"model\"\n",
            "_________________________________________________________________\n",
            "Layer (type)                 Output Shape              Param #   \n",
            "=================================================================\n",
            "input_3 (InputLayer)         [(None, 12, 7)]           0         \n",
            "_________________________________________________________________\n",
            "rnn (RNN)                    (None, 4)                 48        \n",
            "_________________________________________________________________\n",
            "dense (Dense)                (None, 1)                 5         \n",
            "=================================================================\n",
            "Total params: 53\n",
            "Trainable params: 53\n",
            "Non-trainable params: 0\n",
            "_________________________________________________________________\n"
          ],
          "name": "stdout"
        }
      ]
    },
    {
      "cell_type": "code",
      "metadata": {
        "colab": {
          "base_uri": "https://localhost:8080/"
        },
        "id": "gz2QMDYfuvKn",
        "outputId": "32d9dcbb-01cd-40d8-c619-9c8f9d75f685"
      },
      "source": [
        "# we train the model for 100 epochs\n",
        "# verbose level 2 displays more info while trianing\n",
        "H = model.fit(X_train, y_train, epochs=100, verbose=2, validation_data=(X_val, y_val))"
      ],
      "execution_count": 21,
      "outputs": [
        {
          "output_type": "stream",
          "text": [
            "Epoch 1/100\n",
            "313/313 - 3s - loss: 0.7015 - accuracy: 0.5065 - val_loss: 0.6963 - val_accuracy: 0.5046\n",
            "Epoch 2/100\n",
            "313/313 - 1s - loss: 0.6873 - accuracy: 0.5419 - val_loss: 0.6822 - val_accuracy: 0.5884\n",
            "Epoch 3/100\n",
            "313/313 - 1s - loss: 0.6687 - accuracy: 0.6124 - val_loss: 0.6534 - val_accuracy: 0.6326\n",
            "Epoch 4/100\n",
            "313/313 - 1s - loss: 0.6372 - accuracy: 0.6568 - val_loss: 0.6195 - val_accuracy: 0.6794\n",
            "Epoch 5/100\n",
            "313/313 - 1s - loss: 0.6087 - accuracy: 0.6893 - val_loss: 0.5949 - val_accuracy: 0.7156\n",
            "Epoch 6/100\n",
            "313/313 - 1s - loss: 0.5853 - accuracy: 0.7173 - val_loss: 0.5699 - val_accuracy: 0.7320\n",
            "Epoch 7/100\n",
            "313/313 - 1s - loss: 0.5639 - accuracy: 0.7324 - val_loss: 0.5499 - val_accuracy: 0.7596\n",
            "Epoch 8/100\n",
            "313/313 - 1s - loss: 0.5485 - accuracy: 0.7477 - val_loss: 0.5364 - val_accuracy: 0.7654\n",
            "Epoch 9/100\n",
            "313/313 - 1s - loss: 0.5346 - accuracy: 0.7555 - val_loss: 0.5262 - val_accuracy: 0.7550\n",
            "Epoch 10/100\n",
            "313/313 - 1s - loss: 0.5214 - accuracy: 0.7626 - val_loss: 0.5108 - val_accuracy: 0.7658\n",
            "Epoch 11/100\n",
            "313/313 - 1s - loss: 0.5092 - accuracy: 0.7706 - val_loss: 0.4969 - val_accuracy: 0.7754\n",
            "Epoch 12/100\n",
            "313/313 - 1s - loss: 0.4979 - accuracy: 0.7743 - val_loss: 0.5047 - val_accuracy: 0.7632\n",
            "Epoch 13/100\n",
            "313/313 - 1s - loss: 0.4862 - accuracy: 0.7759 - val_loss: 0.4772 - val_accuracy: 0.7814\n",
            "Epoch 14/100\n",
            "313/313 - 1s - loss: 0.4752 - accuracy: 0.7834 - val_loss: 0.4700 - val_accuracy: 0.7806\n",
            "Epoch 15/100\n",
            "313/313 - 1s - loss: 0.4655 - accuracy: 0.7852 - val_loss: 0.4628 - val_accuracy: 0.7842\n",
            "Epoch 16/100\n",
            "313/313 - 1s - loss: 0.4572 - accuracy: 0.7873 - val_loss: 0.4483 - val_accuracy: 0.7928\n",
            "Epoch 17/100\n",
            "313/313 - 1s - loss: 0.4509 - accuracy: 0.7835 - val_loss: 0.4505 - val_accuracy: 0.7754\n",
            "Epoch 18/100\n",
            "313/313 - 1s - loss: 0.4447 - accuracy: 0.7811 - val_loss: 0.4332 - val_accuracy: 0.7918\n",
            "Epoch 19/100\n",
            "313/313 - 1s - loss: 0.4402 - accuracy: 0.7786 - val_loss: 0.4300 - val_accuracy: 0.7880\n",
            "Epoch 20/100\n",
            "313/313 - 1s - loss: 0.4339 - accuracy: 0.7859 - val_loss: 0.4212 - val_accuracy: 0.7978\n",
            "Epoch 21/100\n",
            "313/313 - 1s - loss: 0.4306 - accuracy: 0.7856 - val_loss: 0.4188 - val_accuracy: 0.7932\n",
            "Epoch 22/100\n",
            "313/313 - 1s - loss: 0.4262 - accuracy: 0.7891 - val_loss: 0.4161 - val_accuracy: 0.7964\n",
            "Epoch 23/100\n",
            "313/313 - 1s - loss: 0.4231 - accuracy: 0.7916 - val_loss: 0.4128 - val_accuracy: 0.7966\n",
            "Epoch 24/100\n",
            "313/313 - 1s - loss: 0.4201 - accuracy: 0.7968 - val_loss: 0.4350 - val_accuracy: 0.7720\n",
            "Epoch 25/100\n",
            "313/313 - 1s - loss: 0.4169 - accuracy: 0.7964 - val_loss: 0.4056 - val_accuracy: 0.7998\n",
            "Epoch 26/100\n",
            "313/313 - 1s - loss: 0.4136 - accuracy: 0.7988 - val_loss: 0.4291 - val_accuracy: 0.7748\n",
            "Epoch 27/100\n",
            "313/313 - 1s - loss: 0.4114 - accuracy: 0.8008 - val_loss: 0.4519 - val_accuracy: 0.7602\n",
            "Epoch 28/100\n",
            "313/313 - 1s - loss: 0.4086 - accuracy: 0.8001 - val_loss: 0.4149 - val_accuracy: 0.7834\n",
            "Epoch 29/100\n",
            "313/313 - 1s - loss: 0.4069 - accuracy: 0.8018 - val_loss: 0.4024 - val_accuracy: 0.8102\n",
            "Epoch 30/100\n",
            "313/313 - 1s - loss: 0.4039 - accuracy: 0.8049 - val_loss: 0.4306 - val_accuracy: 0.7640\n",
            "Epoch 31/100\n",
            "313/313 - 1s - loss: 0.4002 - accuracy: 0.8063 - val_loss: 0.3916 - val_accuracy: 0.8148\n",
            "Epoch 32/100\n",
            "313/313 - 1s - loss: 0.3986 - accuracy: 0.8094 - val_loss: 0.3845 - val_accuracy: 0.8186\n",
            "Epoch 33/100\n",
            "313/313 - 1s - loss: 0.3954 - accuracy: 0.8094 - val_loss: 0.3927 - val_accuracy: 0.8146\n",
            "Epoch 34/100\n",
            "313/313 - 1s - loss: 0.3911 - accuracy: 0.8129 - val_loss: 0.3977 - val_accuracy: 0.8140\n",
            "Epoch 35/100\n",
            "313/313 - 1s - loss: 0.3893 - accuracy: 0.8123 - val_loss: 0.3831 - val_accuracy: 0.8204\n",
            "Epoch 36/100\n",
            "313/313 - 1s - loss: 0.3879 - accuracy: 0.8152 - val_loss: 0.3978 - val_accuracy: 0.8102\n",
            "Epoch 37/100\n",
            "313/313 - 1s - loss: 0.3854 - accuracy: 0.8195 - val_loss: 0.3795 - val_accuracy: 0.8220\n",
            "Epoch 38/100\n",
            "313/313 - 1s - loss: 0.3828 - accuracy: 0.8209 - val_loss: 0.3798 - val_accuracy: 0.8328\n",
            "Epoch 39/100\n",
            "313/313 - 1s - loss: 0.3808 - accuracy: 0.8233 - val_loss: 0.3798 - val_accuracy: 0.8302\n",
            "Epoch 40/100\n",
            "313/313 - 1s - loss: 0.3782 - accuracy: 0.8256 - val_loss: 0.3766 - val_accuracy: 0.8342\n",
            "Epoch 41/100\n",
            "313/313 - 1s - loss: 0.3754 - accuracy: 0.8333 - val_loss: 0.3637 - val_accuracy: 0.8444\n",
            "Epoch 42/100\n",
            "313/313 - 1s - loss: 0.3727 - accuracy: 0.8367 - val_loss: 0.3594 - val_accuracy: 0.8434\n",
            "Epoch 43/100\n",
            "313/313 - 1s - loss: 0.3695 - accuracy: 0.8381 - val_loss: 0.3669 - val_accuracy: 0.8458\n",
            "Epoch 44/100\n",
            "313/313 - 1s - loss: 0.3683 - accuracy: 0.8413 - val_loss: 0.3618 - val_accuracy: 0.8452\n",
            "Epoch 45/100\n",
            "313/313 - 1s - loss: 0.3646 - accuracy: 0.8466 - val_loss: 0.3513 - val_accuracy: 0.8484\n",
            "Epoch 46/100\n",
            "313/313 - 1s - loss: 0.3623 - accuracy: 0.8472 - val_loss: 0.3496 - val_accuracy: 0.8608\n",
            "Epoch 47/100\n",
            "313/313 - 1s - loss: 0.3605 - accuracy: 0.8505 - val_loss: 0.3519 - val_accuracy: 0.8586\n",
            "Epoch 48/100\n",
            "313/313 - 1s - loss: 0.3569 - accuracy: 0.8539 - val_loss: 0.3524 - val_accuracy: 0.8550\n",
            "Epoch 49/100\n",
            "313/313 - 1s - loss: 0.3561 - accuracy: 0.8537 - val_loss: 0.3414 - val_accuracy: 0.8626\n",
            "Epoch 50/100\n",
            "313/313 - 1s - loss: 0.3524 - accuracy: 0.8531 - val_loss: 0.3385 - val_accuracy: 0.8680\n",
            "Epoch 51/100\n",
            "313/313 - 1s - loss: 0.3498 - accuracy: 0.8554 - val_loss: 0.3374 - val_accuracy: 0.8664\n",
            "Epoch 52/100\n",
            "313/313 - 1s - loss: 0.3474 - accuracy: 0.8564 - val_loss: 0.3393 - val_accuracy: 0.8660\n",
            "Epoch 53/100\n",
            "313/313 - 1s - loss: 0.3460 - accuracy: 0.8576 - val_loss: 0.3378 - val_accuracy: 0.8654\n",
            "Epoch 54/100\n",
            "313/313 - 1s - loss: 0.3410 - accuracy: 0.8600 - val_loss: 0.3410 - val_accuracy: 0.8592\n",
            "Epoch 55/100\n",
            "313/313 - 1s - loss: 0.3399 - accuracy: 0.8596 - val_loss: 0.3277 - val_accuracy: 0.8682\n",
            "Epoch 56/100\n",
            "313/313 - 1s - loss: 0.3363 - accuracy: 0.8625 - val_loss: 0.3295 - val_accuracy: 0.8618\n",
            "Epoch 57/100\n",
            "313/313 - 1s - loss: 0.3340 - accuracy: 0.8628 - val_loss: 0.3213 - val_accuracy: 0.8718\n",
            "Epoch 58/100\n",
            "313/313 - 1s - loss: 0.3322 - accuracy: 0.8634 - val_loss: 0.3269 - val_accuracy: 0.8696\n",
            "Epoch 59/100\n",
            "313/313 - 1s - loss: 0.3295 - accuracy: 0.8628 - val_loss: 0.3178 - val_accuracy: 0.8748\n",
            "Epoch 60/100\n",
            "313/313 - 1s - loss: 0.3283 - accuracy: 0.8633 - val_loss: 0.3433 - val_accuracy: 0.8602\n",
            "Epoch 61/100\n",
            "313/313 - 1s - loss: 0.3285 - accuracy: 0.8638 - val_loss: 0.3158 - val_accuracy: 0.8748\n",
            "Epoch 62/100\n",
            "313/313 - 1s - loss: 0.3248 - accuracy: 0.8669 - val_loss: 0.3197 - val_accuracy: 0.8672\n",
            "Epoch 63/100\n",
            "313/313 - 1s - loss: 0.3254 - accuracy: 0.8670 - val_loss: 0.3218 - val_accuracy: 0.8692\n",
            "Epoch 64/100\n",
            "313/313 - 1s - loss: 0.3234 - accuracy: 0.8651 - val_loss: 0.3185 - val_accuracy: 0.8678\n",
            "Epoch 65/100\n",
            "313/313 - 1s - loss: 0.3236 - accuracy: 0.8656 - val_loss: 0.3109 - val_accuracy: 0.8748\n",
            "Epoch 66/100\n",
            "313/313 - 1s - loss: 0.3223 - accuracy: 0.8653 - val_loss: 0.3136 - val_accuracy: 0.8714\n",
            "Epoch 67/100\n",
            "313/313 - 1s - loss: 0.3218 - accuracy: 0.8663 - val_loss: 0.3112 - val_accuracy: 0.8760\n",
            "Epoch 68/100\n",
            "313/313 - 1s - loss: 0.3195 - accuracy: 0.8700 - val_loss: 0.3253 - val_accuracy: 0.8662\n",
            "Epoch 69/100\n",
            "313/313 - 1s - loss: 0.3202 - accuracy: 0.8674 - val_loss: 0.3108 - val_accuracy: 0.8710\n",
            "Epoch 70/100\n",
            "313/313 - 1s - loss: 0.3187 - accuracy: 0.8675 - val_loss: 0.3201 - val_accuracy: 0.8776\n",
            "Epoch 71/100\n",
            "313/313 - 1s - loss: 0.3177 - accuracy: 0.8678 - val_loss: 0.3197 - val_accuracy: 0.8724\n",
            "Epoch 72/100\n",
            "313/313 - 1s - loss: 0.3165 - accuracy: 0.8700 - val_loss: 0.3084 - val_accuracy: 0.8766\n",
            "Epoch 73/100\n",
            "313/313 - 1s - loss: 0.3173 - accuracy: 0.8688 - val_loss: 0.3146 - val_accuracy: 0.8662\n",
            "Epoch 74/100\n",
            "313/313 - 1s - loss: 0.3154 - accuracy: 0.8708 - val_loss: 0.3154 - val_accuracy: 0.8790\n",
            "Epoch 75/100\n",
            "313/313 - 1s - loss: 0.3159 - accuracy: 0.8700 - val_loss: 0.3096 - val_accuracy: 0.8706\n",
            "Epoch 76/100\n",
            "313/313 - 1s - loss: 0.3144 - accuracy: 0.8702 - val_loss: 0.3131 - val_accuracy: 0.8702\n",
            "Epoch 77/100\n",
            "313/313 - 1s - loss: 0.3136 - accuracy: 0.8721 - val_loss: 0.3080 - val_accuracy: 0.8662\n",
            "Epoch 78/100\n",
            "313/313 - 1s - loss: 0.3128 - accuracy: 0.8709 - val_loss: 0.3235 - val_accuracy: 0.8606\n",
            "Epoch 79/100\n",
            "313/313 - 1s - loss: 0.3116 - accuracy: 0.8692 - val_loss: 0.3409 - val_accuracy: 0.8488\n",
            "Epoch 80/100\n",
            "313/313 - 1s - loss: 0.3120 - accuracy: 0.8717 - val_loss: 0.3172 - val_accuracy: 0.8776\n",
            "Epoch 81/100\n",
            "313/313 - 1s - loss: 0.3120 - accuracy: 0.8708 - val_loss: 0.3056 - val_accuracy: 0.8790\n",
            "Epoch 82/100\n",
            "313/313 - 1s - loss: 0.3106 - accuracy: 0.8737 - val_loss: 0.3619 - val_accuracy: 0.8216\n",
            "Epoch 83/100\n",
            "313/313 - 1s - loss: 0.3094 - accuracy: 0.8729 - val_loss: 0.3119 - val_accuracy: 0.8744\n",
            "Epoch 84/100\n",
            "313/313 - 1s - loss: 0.3105 - accuracy: 0.8714 - val_loss: 0.3008 - val_accuracy: 0.8782\n",
            "Epoch 85/100\n",
            "313/313 - 1s - loss: 0.3091 - accuracy: 0.8735 - val_loss: 0.2999 - val_accuracy: 0.8762\n",
            "Epoch 86/100\n",
            "313/313 - 1s - loss: 0.3076 - accuracy: 0.8712 - val_loss: 0.3060 - val_accuracy: 0.8658\n",
            "Epoch 87/100\n",
            "313/313 - 1s - loss: 0.3077 - accuracy: 0.8739 - val_loss: 0.3004 - val_accuracy: 0.8778\n",
            "Epoch 88/100\n",
            "313/313 - 1s - loss: 0.3076 - accuracy: 0.8728 - val_loss: 0.2995 - val_accuracy: 0.8798\n",
            "Epoch 89/100\n",
            "313/313 - 1s - loss: 0.3072 - accuracy: 0.8726 - val_loss: 0.2962 - val_accuracy: 0.8772\n",
            "Epoch 90/100\n",
            "313/313 - 1s - loss: 0.3070 - accuracy: 0.8732 - val_loss: 0.3001 - val_accuracy: 0.8838\n",
            "Epoch 91/100\n",
            "313/313 - 1s - loss: 0.3050 - accuracy: 0.8760 - val_loss: 0.2955 - val_accuracy: 0.8804\n",
            "Epoch 92/100\n",
            "313/313 - 1s - loss: 0.3047 - accuracy: 0.8742 - val_loss: 0.2999 - val_accuracy: 0.8802\n",
            "Epoch 93/100\n",
            "313/313 - 1s - loss: 0.3038 - accuracy: 0.8761 - val_loss: 0.2980 - val_accuracy: 0.8846\n",
            "Epoch 94/100\n",
            "313/313 - 1s - loss: 0.3018 - accuracy: 0.8764 - val_loss: 0.3018 - val_accuracy: 0.8794\n",
            "Epoch 95/100\n",
            "313/313 - 1s - loss: 0.3019 - accuracy: 0.8750 - val_loss: 0.2995 - val_accuracy: 0.8838\n",
            "Epoch 96/100\n",
            "313/313 - 1s - loss: 0.3007 - accuracy: 0.8765 - val_loss: 0.2962 - val_accuracy: 0.8868\n",
            "Epoch 97/100\n",
            "313/313 - 1s - loss: 0.3015 - accuracy: 0.8746 - val_loss: 0.2931 - val_accuracy: 0.8832\n",
            "Epoch 98/100\n",
            "313/313 - 1s - loss: 0.2993 - accuracy: 0.8786 - val_loss: 0.2951 - val_accuracy: 0.8844\n",
            "Epoch 99/100\n",
            "313/313 - 1s - loss: 0.3003 - accuracy: 0.8759 - val_loss: 0.2931 - val_accuracy: 0.8852\n",
            "Epoch 100/100\n",
            "313/313 - 1s - loss: 0.2991 - accuracy: 0.8758 - val_loss: 0.3130 - val_accuracy: 0.8714\n"
          ],
          "name": "stdout"
        }
      ]
    },
    {
      "cell_type": "code",
      "metadata": {
        "id": "g-pFBboDuxjn"
      },
      "source": [
        "def plot_results(H):\n",
        "    results = pd.DataFrame({\"Train Loss\": H.history['loss'], \"Validation Loss\": H.history['val_loss'],\n",
        "              \"Train Accuracy\": H.history['accuracy'], \"Validation Accuracy\": H.history['val_accuracy']\n",
        "             })\n",
        "    fig, ax = plt.subplots(nrows=2, figsize=(16, 9))\n",
        "    results[[\"Train Loss\", \"Validation Loss\"]].plot(ax=ax[0])\n",
        "    results[[\"Train Accuracy\", \"Validation Accuracy\"]].plot(ax=ax[1])\n",
        "    ax[0].set_xlabel(\"Epoch\")\n",
        "    ax[1].set_xlabel(\"Epoch\")\n",
        "    plt.show()"
      ],
      "execution_count": 22,
      "outputs": []
    },
    {
      "cell_type": "code",
      "metadata": {
        "colab": {
          "base_uri": "https://localhost:8080/",
          "height": 442
        },
        "id": "MNob6DWDu0_w",
        "outputId": "b3605185-d293-4fe9-986f-66ad8f279848"
      },
      "source": [
        "plot_results(H)"
      ],
      "execution_count": 27,
      "outputs": [
        {
          "output_type": "display_data",
          "data": {
            "image/png": "[encoded data removed]",
            "text/plain": [
              "<Figure size 1152x648 with 2 Axes>"
            ]
          },
          "metadata": {
            "tags": [],
            "needs_background": "light"
          }
        }
      ]
    },
    {
      "cell_type": "code",
      "metadata": {
        "id": "jiTWDuqqu3U5"
      },
      "source": [
        ""
      ],
      "execution_count": null,
      "outputs": []
    }
  ]
}