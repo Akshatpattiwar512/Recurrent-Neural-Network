{
  "nbformat": 4,
  "nbformat_minor": 0,
  "metadata": {
    "colab": {
      "name": " Google stock price prediction - RNN",
      "provenance": [],
      "authorship_tag": "ABX9TyNAMwkqCmLQnC16ry4sG8Sl",
      "include_colab_link": true
    },
    "kernelspec": {
      "name": "python3",
      "display_name": "Python 3"
    },
    "language_info": {
      "name": "python"
    }
  },
  "cells": [
    {
      "cell_type": "markdown",
      "metadata": {
        "id": "view-in-github",
        "colab_type": "text"
      },
      "source": [
        "<a href=\"https://colab.research.google.com/github/Akshatpattiwar512/Recurrent-Neural-Network/blob/main/Google_stock_price_prediction_RNN.ipynb\" target=\"_parent\"><img src=\"https://colab.research.google.com/assets/colab-badge.svg\" alt=\"Open In Colab\"/></a>"
      ]
    },
    {
      "cell_type": "code",
      "metadata": {
        "colab": {
          "base_uri": "https://localhost:8080/"
        },
        "id": "oxpd66mZMxSL",
        "outputId": "9011e40c-30ad-46ca-dfb2-2fc93e3d81f4"
      },
      "source": [
        "! pip install kaggle"
      ],
      "execution_count": 1,
      "outputs": [
        {
          "output_type": "stream",
          "text": [
            "Requirement already satisfied: kaggle in /usr/local/lib/python3.7/dist-packages (1.5.12)\n",
            "Requirement already satisfied: python-slugify in /usr/local/lib/python3.7/dist-packages (from kaggle) (5.0.2)\n",
            "Requirement already satisfied: six>=1.10 in /usr/local/lib/python3.7/dist-packages (from kaggle) (1.15.0)\n",
            "Requirement already satisfied: tqdm in /usr/local/lib/python3.7/dist-packages (from kaggle) (4.41.1)\n",
            "Requirement already satisfied: python-dateutil in /usr/local/lib/python3.7/dist-packages (from kaggle) (2.8.1)\n",
            "Requirement already satisfied: urllib3 in /usr/local/lib/python3.7/dist-packages (from kaggle) (1.24.3)\n",
            "Requirement already satisfied: requests in /usr/local/lib/python3.7/dist-packages (from kaggle) (2.23.0)\n",
            "Requirement already satisfied: certifi in /usr/local/lib/python3.7/dist-packages (from kaggle) (2021.5.30)\n",
            "Requirement already satisfied: text-unidecode>=1.3 in /usr/local/lib/python3.7/dist-packages (from python-slugify->kaggle) (1.3)\n",
            "Requirement already satisfied: idna<3,>=2.5 in /usr/local/lib/python3.7/dist-packages (from requests->kaggle) (2.10)\n",
            "Requirement already satisfied: chardet<4,>=3.0.2 in /usr/local/lib/python3.7/dist-packages (from requests->kaggle) (3.0.4)\n"
          ],
          "name": "stdout"
        }
      ]
    },
    {
      "cell_type": "code",
      "metadata": {
        "id": "wrEHPFiJNI7G"
      },
      "source": [
        "! mkdir ~/.kaggle"
      ],
      "execution_count": 2,
      "outputs": []
    },
    {
      "cell_type": "code",
      "metadata": {
        "id": "s2pBZ01gNObp"
      },
      "source": [
        "! cp kaggle.json ~/.kaggle/"
      ],
      "execution_count": 3,
      "outputs": []
    },
    {
      "cell_type": "code",
      "metadata": {
        "id": "MduI921yNP_g"
      },
      "source": [
        "! chmod 600 ~/.kaggle/kaggle.json"
      ],
      "execution_count": 5,
      "outputs": []
    },
    {
      "cell_type": "code",
      "metadata": {
        "colab": {
          "base_uri": "https://localhost:8080/"
        },
        "id": "qFZS2yzCNRdg",
        "outputId": "4d5a5eb6-f394-4a29-e1fe-4781ff5e974c"
      },
      "source": [
        "! kaggle datasets download ptheru/googledta"
      ],
      "execution_count": 6,
      "outputs": [
        {
          "output_type": "stream",
          "text": [
            "Downloading googledta.zip to /content\n",
            "\r  0% 0.00/33.6k [00:00<?, ?B/s]\n",
            "\r100% 33.6k/33.6k [00:00<00:00, 30.3MB/s]\n"
          ],
          "name": "stdout"
        }
      ]
    },
    {
      "cell_type": "code",
      "metadata": {
        "colab": {
          "base_uri": "https://localhost:8080/"
        },
        "id": "qVIE6tK6NYGj",
        "outputId": "8862f1aa-8995-45a3-ba9d-ef3a0f510c02"
      },
      "source": [
        "! unzip googledta.zip"
      ],
      "execution_count": 7,
      "outputs": [
        {
          "output_type": "stream",
          "text": [
            "Archive:  googledta.zip\n",
            "  inflating: testset.csv             \n",
            "  inflating: trainset.csv            \n"
          ],
          "name": "stdout"
        }
      ]
    },
    {
      "cell_type": "code",
      "metadata": {
        "colab": {
          "base_uri": "https://localhost:8080/"
        },
        "id": "e7MITYBJNdBT",
        "outputId": "cd421850-f169-48ae-e877-ef49669ad9dd"
      },
      "source": [
        "import numpy as np # linear algebra\n",
        "import pandas as pd # data processing, CSV file I/O (e.g. pd.read_csv)\n",
        "import matplotlib.pyplot as plt\n",
        "from keras.models import Sequential\n",
        "from keras.layers import Dense\n",
        "from keras.layers import LSTM\n",
        "from keras.layers import Dropout\n",
        "import os\n",
        "print(os.listdir(\"../content\"))\n"
      ],
      "execution_count": 18,
      "outputs": [
        {
          "output_type": "stream",
          "text": [
            "['.config', 'googledta.zip', 'testset.csv', 'trainset.csv', 'kaggle.json', '.ipynb_checkpoints', 'sample_data']\n"
          ],
          "name": "stdout"
        }
      ]
    },
    {
      "cell_type": "code",
      "metadata": {
        "colab": {
          "base_uri": "https://localhost:8080/",
          "height": 605
        },
        "id": "z5tYB0QQNl-1",
        "outputId": "f4071974-ab68-4f8a-e855-efc6b1806168"
      },
      "source": [
        "dataset_train = pd.read_csv(\"../content/trainset.csv\")\n",
        "dataset_train"
      ],
      "execution_count": 10,
      "outputs": [
        {
          "output_type": "execute_result",
          "data": {
            "text/html": [
              "<div>\n",
              "<style scoped>\n",
              "    .dataframe tbody tr th:only-of-type {\n",
              "        vertical-align: middle;\n",
              "    }\n",
              "\n",
              "    .dataframe tbody tr th {\n",
              "        vertical-align: top;\n",
              "    }\n",
              "\n",
              "    .dataframe thead th {\n",
              "        text-align: right;\n",
              "    }\n",
              "</style>\n",
              "<table border=\"1\" class=\"dataframe\">\n",
              "  <thead>\n",
              "    <tr style=\"text-align: right;\">\n",
              "      <th></th>\n",
              "      <th>Date</th>\n",
              "      <th>Open</th>\n",
              "      <th>High</th>\n",
              "      <th>Low</th>\n",
              "      <th>Close</th>\n",
              "      <th>Adj Close</th>\n",
              "      <th>Volume</th>\n",
              "    </tr>\n",
              "  </thead>\n",
              "  <tbody>\n",
              "    <tr>\n",
              "      <th>0</th>\n",
              "      <td>2013-01-02</td>\n",
              "      <td>357.385559</td>\n",
              "      <td>361.151062</td>\n",
              "      <td>355.959839</td>\n",
              "      <td>359.288177</td>\n",
              "      <td>359.288177</td>\n",
              "      <td>5115500</td>\n",
              "    </tr>\n",
              "    <tr>\n",
              "      <th>1</th>\n",
              "      <td>2013-01-03</td>\n",
              "      <td>360.122742</td>\n",
              "      <td>363.600128</td>\n",
              "      <td>358.031342</td>\n",
              "      <td>359.496826</td>\n",
              "      <td>359.496826</td>\n",
              "      <td>4666500</td>\n",
              "    </tr>\n",
              "    <tr>\n",
              "      <th>2</th>\n",
              "      <td>2013-01-04</td>\n",
              "      <td>362.313507</td>\n",
              "      <td>368.339294</td>\n",
              "      <td>361.488861</td>\n",
              "      <td>366.600616</td>\n",
              "      <td>366.600616</td>\n",
              "      <td>5562800</td>\n",
              "    </tr>\n",
              "    <tr>\n",
              "      <th>3</th>\n",
              "      <td>2013-01-07</td>\n",
              "      <td>365.348755</td>\n",
              "      <td>367.301056</td>\n",
              "      <td>362.929504</td>\n",
              "      <td>365.001007</td>\n",
              "      <td>365.001007</td>\n",
              "      <td>3332900</td>\n",
              "    </tr>\n",
              "    <tr>\n",
              "      <th>4</th>\n",
              "      <td>2013-01-08</td>\n",
              "      <td>365.393463</td>\n",
              "      <td>365.771027</td>\n",
              "      <td>359.874359</td>\n",
              "      <td>364.280701</td>\n",
              "      <td>364.280701</td>\n",
              "      <td>3373900</td>\n",
              "    </tr>\n",
              "    <tr>\n",
              "      <th>...</th>\n",
              "      <td>...</td>\n",
              "      <td>...</td>\n",
              "      <td>...</td>\n",
              "      <td>...</td>\n",
              "      <td>...</td>\n",
              "      <td>...</td>\n",
              "      <td>...</td>\n",
              "    </tr>\n",
              "    <tr>\n",
              "      <th>1254</th>\n",
              "      <td>2017-12-22</td>\n",
              "      <td>1061.109985</td>\n",
              "      <td>1064.199951</td>\n",
              "      <td>1059.439941</td>\n",
              "      <td>1060.119995</td>\n",
              "      <td>1060.119995</td>\n",
              "      <td>755100</td>\n",
              "    </tr>\n",
              "    <tr>\n",
              "      <th>1255</th>\n",
              "      <td>2017-12-26</td>\n",
              "      <td>1058.069946</td>\n",
              "      <td>1060.119995</td>\n",
              "      <td>1050.199951</td>\n",
              "      <td>1056.739990</td>\n",
              "      <td>1056.739990</td>\n",
              "      <td>760600</td>\n",
              "    </tr>\n",
              "    <tr>\n",
              "      <th>1256</th>\n",
              "      <td>2017-12-27</td>\n",
              "      <td>1057.390015</td>\n",
              "      <td>1058.369995</td>\n",
              "      <td>1048.050049</td>\n",
              "      <td>1049.369995</td>\n",
              "      <td>1049.369995</td>\n",
              "      <td>1271900</td>\n",
              "    </tr>\n",
              "    <tr>\n",
              "      <th>1257</th>\n",
              "      <td>2017-12-28</td>\n",
              "      <td>1051.599976</td>\n",
              "      <td>1054.750000</td>\n",
              "      <td>1044.770020</td>\n",
              "      <td>1048.140015</td>\n",
              "      <td>1048.140015</td>\n",
              "      <td>837100</td>\n",
              "    </tr>\n",
              "    <tr>\n",
              "      <th>1258</th>\n",
              "      <td>2017-12-29</td>\n",
              "      <td>1046.719971</td>\n",
              "      <td>1049.699951</td>\n",
              "      <td>1044.900024</td>\n",
              "      <td>1046.400024</td>\n",
              "      <td>1046.400024</td>\n",
              "      <td>887500</td>\n",
              "    </tr>\n",
              "  </tbody>\n",
              "</table>\n",
              "<p>1259 rows × 7 columns</p>\n",
              "</div>"
            ],
            "text/plain": [
              "            Date         Open         High  ...        Close    Adj Close   Volume\n",
              "0     2013-01-02   357.385559   361.151062  ...   359.288177   359.288177  5115500\n",
              "1     2013-01-03   360.122742   363.600128  ...   359.496826   359.496826  4666500\n",
              "2     2013-01-04   362.313507   368.339294  ...   366.600616   366.600616  5562800\n",
              "3     2013-01-07   365.348755   367.301056  ...   365.001007   365.001007  3332900\n",
              "4     2013-01-08   365.393463   365.771027  ...   364.280701   364.280701  3373900\n",
              "...          ...          ...          ...  ...          ...          ...      ...\n",
              "1254  2017-12-22  1061.109985  1064.199951  ...  1060.119995  1060.119995   755100\n",
              "1255  2017-12-26  1058.069946  1060.119995  ...  1056.739990  1056.739990   760600\n",
              "1256  2017-12-27  1057.390015  1058.369995  ...  1049.369995  1049.369995  1271900\n",
              "1257  2017-12-28  1051.599976  1054.750000  ...  1048.140015  1048.140015   837100\n",
              "1258  2017-12-29  1046.719971  1049.699951  ...  1046.400024  1046.400024   887500\n",
              "\n",
              "[1259 rows x 7 columns]"
            ]
          },
          "metadata": {
            "tags": []
          },
          "execution_count": 10
        }
      ]
    },
    {
      "cell_type": "code",
      "metadata": {
        "colab": {
          "base_uri": "https://localhost:8080/"
        },
        "id": "YpIx_AmDNpxR",
        "outputId": "62e04299-5e9b-4b04-afb3-5b4449254070"
      },
      "source": [
        "trainset = dataset_train.iloc[:,1:2].values\n",
        "trainset"
      ],
      "execution_count": 12,
      "outputs": [
        {
          "output_type": "execute_result",
          "data": {
            "text/plain": [
              "array([[ 357.385559],\n",
              "       [ 360.122742],\n",
              "       [ 362.313507],\n",
              "       ...,\n",
              "       [1057.390015],\n",
              "       [1051.599976],\n",
              "       [1046.719971]])"
            ]
          },
          "metadata": {
            "tags": []
          },
          "execution_count": 12
        }
      ]
    },
    {
      "cell_type": "code",
      "metadata": {
        "colab": {
          "base_uri": "https://localhost:8080/"
        },
        "id": "RBDj9xpiNu0c",
        "outputId": "8b58a0c3-75c8-4caa-ed50-ba8e94a9a039"
      },
      "source": [
        "from sklearn.preprocessing import MinMaxScaler\n",
        "sc = MinMaxScaler(feature_range = (0,1))\n",
        "training_scaled = sc.fit_transform(trainset)\n",
        "training_scaled"
      ],
      "execution_count": 13,
      "outputs": [
        {
          "output_type": "execute_result",
          "data": {
            "text/plain": [
              "array([[0.01011148],\n",
              "       [0.01388614],\n",
              "       [0.01690727],\n",
              "       ...,\n",
              "       [0.97543954],\n",
              "       [0.9674549 ],\n",
              "       [0.96072522]])"
            ]
          },
          "metadata": {
            "tags": []
          },
          "execution_count": 13
        }
      ]
    },
    {
      "cell_type": "code",
      "metadata": {
        "id": "WVRv1TKUN1GH"
      },
      "source": [
        "x_train = []\n",
        "y_train = []"
      ],
      "execution_count": 14,
      "outputs": []
    },
    {
      "cell_type": "code",
      "metadata": {
        "id": "ZQthczKNN3HB"
      },
      "source": [
        "for i in range(60,1259):\n",
        "    x_train.append(training_scaled[i-60:i, 0])\n",
        "    y_train.append(training_scaled[i,0])\n",
        "x_train,y_train = np.array(x_train),np.array(y_train)"
      ],
      "execution_count": 15,
      "outputs": []
    },
    {
      "cell_type": "code",
      "metadata": {
        "colab": {
          "base_uri": "https://localhost:8080/"
        },
        "id": "ByKIPT70N5US",
        "outputId": "64ddd4da-6923-4ce4-9017-d0494ef3423a"
      },
      "source": [
        "x_train.shape"
      ],
      "execution_count": 16,
      "outputs": [
        {
          "output_type": "execute_result",
          "data": {
            "text/plain": [
              "(1199, 60)"
            ]
          },
          "metadata": {
            "tags": []
          },
          "execution_count": 16
        }
      ]
    },
    {
      "cell_type": "code",
      "metadata": {
        "id": "XmUcScVjN7Xw"
      },
      "source": [
        "x_train = np.reshape(x_train, (x_train.shape[0],x_train.shape[1],1))"
      ],
      "execution_count": 17,
      "outputs": []
    },
    {
      "cell_type": "code",
      "metadata": {
        "id": "gp9xp1KwN812"
      },
      "source": [
        "regressor = Sequential()\n",
        "regressor.add(LSTM(units = 50,return_sequences = True,input_shape = (x_train.shape[1],1)))"
      ],
      "execution_count": 19,
      "outputs": []
    },
    {
      "cell_type": "code",
      "metadata": {
        "id": "4eko3qIjOEUs"
      },
      "source": [
        "regressor.add(Dropout(0.2))"
      ],
      "execution_count": 20,
      "outputs": []
    },
    {
      "cell_type": "code",
      "metadata": {
        "id": "D4BSSe88OGwn"
      },
      "source": [
        "regressor.add(LSTM(units = 50,return_sequences = True))\n",
        "regressor.add(Dropout(0.2))"
      ],
      "execution_count": 21,
      "outputs": []
    },
    {
      "cell_type": "code",
      "metadata": {
        "id": "hhgBYNKzOIQQ"
      },
      "source": [
        "regressor.add(LSTM(units = 50,return_sequences = True))\n",
        "regressor.add(Dropout(0.2))"
      ],
      "execution_count": 22,
      "outputs": []
    },
    {
      "cell_type": "code",
      "metadata": {
        "id": "ciqjJkFvOKPn"
      },
      "source": [
        "regressor.add(LSTM(units = 50))\n",
        "regressor.add(Dropout(0.2))"
      ],
      "execution_count": 23,
      "outputs": []
    },
    {
      "cell_type": "code",
      "metadata": {
        "id": "PaQPj7Y5OLoh"
      },
      "source": [
        "regressor.add(Dense(units = 1))"
      ],
      "execution_count": 24,
      "outputs": []
    },
    {
      "cell_type": "code",
      "metadata": {
        "id": "rEzZiPi-ONO9"
      },
      "source": [
        "regressor.compile(optimizer = 'adam',loss = 'mean_squared_error')"
      ],
      "execution_count": 25,
      "outputs": []
    },
    {
      "cell_type": "code",
      "metadata": {
        "colab": {
          "base_uri": "https://localhost:8080/"
        },
        "id": "BOTnFM6tOOk6",
        "outputId": "e51a2cf8-4067-4270-a880-d909fca429e8"
      },
      "source": [
        "regressor.fit(x_train,y_train,epochs = 100, batch_size = 32)"
      ],
      "execution_count": 26,
      "outputs": [
        {
          "output_type": "stream",
          "text": [
            "Epoch 1/100\n",
            "38/38 [==============================] - 28s 115ms/step - loss: 0.0823\n",
            "Epoch 2/100\n",
            "38/38 [==============================] - 4s 114ms/step - loss: 0.0052\n",
            "Epoch 3/100\n",
            "38/38 [==============================] - 4s 114ms/step - loss: 0.0043\n",
            "Epoch 4/100\n",
            "38/38 [==============================] - 4s 113ms/step - loss: 0.0043\n",
            "Epoch 5/100\n",
            "38/38 [==============================] - 4s 116ms/step - loss: 0.0044\n",
            "Epoch 6/100\n",
            "38/38 [==============================] - 4s 114ms/step - loss: 0.0038\n",
            "Epoch 7/100\n",
            "38/38 [==============================] - 4s 114ms/step - loss: 0.0034\n",
            "Epoch 8/100\n",
            "38/38 [==============================] - 4s 115ms/step - loss: 0.0041\n",
            "Epoch 9/100\n",
            "38/38 [==============================] - 4s 115ms/step - loss: 0.0033\n",
            "Epoch 10/100\n",
            "38/38 [==============================] - 4s 117ms/step - loss: 0.0035\n",
            "Epoch 11/100\n",
            "38/38 [==============================] - 4s 113ms/step - loss: 0.0030\n",
            "Epoch 12/100\n",
            "38/38 [==============================] - 4s 114ms/step - loss: 0.0036\n",
            "Epoch 13/100\n",
            "38/38 [==============================] - 4s 114ms/step - loss: 0.0031\n",
            "Epoch 14/100\n",
            "38/38 [==============================] - 4s 114ms/step - loss: 0.0033\n",
            "Epoch 15/100\n",
            "38/38 [==============================] - 4s 112ms/step - loss: 0.0028\n",
            "Epoch 16/100\n",
            "38/38 [==============================] - 4s 112ms/step - loss: 0.0027\n",
            "Epoch 17/100\n",
            "38/38 [==============================] - 4s 114ms/step - loss: 0.0025\n",
            "Epoch 18/100\n",
            "38/38 [==============================] - 4s 112ms/step - loss: 0.0025\n",
            "Epoch 19/100\n",
            "38/38 [==============================] - 4s 113ms/step - loss: 0.0029\n",
            "Epoch 20/100\n",
            "38/38 [==============================] - 4s 113ms/step - loss: 0.0026\n",
            "Epoch 21/100\n",
            "38/38 [==============================] - 4s 113ms/step - loss: 0.0025\n",
            "Epoch 22/100\n",
            "38/38 [==============================] - 4s 113ms/step - loss: 0.0025\n",
            "Epoch 23/100\n",
            "38/38 [==============================] - 4s 114ms/step - loss: 0.0027\n",
            "Epoch 24/100\n",
            "38/38 [==============================] - 4s 114ms/step - loss: 0.0025\n",
            "Epoch 25/100\n",
            "38/38 [==============================] - 4s 113ms/step - loss: 0.0022\n",
            "Epoch 26/100\n",
            "38/38 [==============================] - 4s 113ms/step - loss: 0.0023\n",
            "Epoch 27/100\n",
            "38/38 [==============================] - 4s 113ms/step - loss: 0.0025\n",
            "Epoch 28/100\n",
            "38/38 [==============================] - 4s 114ms/step - loss: 0.0026\n",
            "Epoch 29/100\n",
            "38/38 [==============================] - 4s 115ms/step - loss: 0.0022\n",
            "Epoch 30/100\n",
            "38/38 [==============================] - 4s 115ms/step - loss: 0.0026\n",
            "Epoch 31/100\n",
            "38/38 [==============================] - 4s 115ms/step - loss: 0.0025\n",
            "Epoch 32/100\n",
            "38/38 [==============================] - 4s 114ms/step - loss: 0.0023\n",
            "Epoch 33/100\n",
            "38/38 [==============================] - 4s 114ms/step - loss: 0.0025\n",
            "Epoch 34/100\n",
            "38/38 [==============================] - 4s 114ms/step - loss: 0.0021\n",
            "Epoch 35/100\n",
            "38/38 [==============================] - 4s 115ms/step - loss: 0.0019\n",
            "Epoch 36/100\n",
            "38/38 [==============================] - 4s 113ms/step - loss: 0.0020\n",
            "Epoch 37/100\n",
            "38/38 [==============================] - 4s 116ms/step - loss: 0.0020\n",
            "Epoch 38/100\n",
            "38/38 [==============================] - 4s 115ms/step - loss: 0.0020\n",
            "Epoch 39/100\n",
            "38/38 [==============================] - 4s 114ms/step - loss: 0.0019\n",
            "Epoch 40/100\n",
            "38/38 [==============================] - 4s 114ms/step - loss: 0.0017\n",
            "Epoch 41/100\n",
            "38/38 [==============================] - 4s 113ms/step - loss: 0.0019\n",
            "Epoch 42/100\n",
            "38/38 [==============================] - 4s 114ms/step - loss: 0.0020\n",
            "Epoch 43/100\n",
            "38/38 [==============================] - 4s 113ms/step - loss: 0.0017\n",
            "Epoch 44/100\n",
            "38/38 [==============================] - 4s 114ms/step - loss: 0.0019\n",
            "Epoch 45/100\n",
            "38/38 [==============================] - 4s 115ms/step - loss: 0.0017\n",
            "Epoch 46/100\n",
            "38/38 [==============================] - 4s 113ms/step - loss: 0.0017\n",
            "Epoch 47/100\n",
            "38/38 [==============================] - 4s 115ms/step - loss: 0.0019\n",
            "Epoch 48/100\n",
            "38/38 [==============================] - 4s 115ms/step - loss: 0.0023\n",
            "Epoch 49/100\n",
            "38/38 [==============================] - 4s 115ms/step - loss: 0.0016\n",
            "Epoch 50/100\n",
            "38/38 [==============================] - 4s 114ms/step - loss: 0.0015\n",
            "Epoch 51/100\n",
            "38/38 [==============================] - 4s 116ms/step - loss: 0.0016\n",
            "Epoch 52/100\n",
            "38/38 [==============================] - 4s 115ms/step - loss: 0.0017\n",
            "Epoch 53/100\n",
            "38/38 [==============================] - 4s 114ms/step - loss: 0.0015\n",
            "Epoch 54/100\n",
            "38/38 [==============================] - 4s 115ms/step - loss: 0.0015\n",
            "Epoch 55/100\n",
            "38/38 [==============================] - 4s 114ms/step - loss: 0.0018\n",
            "Epoch 56/100\n",
            "38/38 [==============================] - 4s 116ms/step - loss: 0.0016\n",
            "Epoch 57/100\n",
            "38/38 [==============================] - 4s 114ms/step - loss: 0.0019\n",
            "Epoch 58/100\n",
            "38/38 [==============================] - 4s 115ms/step - loss: 0.0017\n",
            "Epoch 59/100\n",
            "38/38 [==============================] - 4s 115ms/step - loss: 0.0017\n",
            "Epoch 60/100\n",
            "38/38 [==============================] - 4s 115ms/step - loss: 0.0014\n",
            "Epoch 61/100\n",
            "38/38 [==============================] - 4s 115ms/step - loss: 0.0014\n",
            "Epoch 62/100\n",
            "38/38 [==============================] - 4s 114ms/step - loss: 0.0016\n",
            "Epoch 63/100\n",
            "38/38 [==============================] - 4s 114ms/step - loss: 0.0016\n",
            "Epoch 64/100\n",
            "38/38 [==============================] - 4s 113ms/step - loss: 0.0018\n",
            "Epoch 65/100\n",
            "38/38 [==============================] - 4s 115ms/step - loss: 0.0016\n",
            "Epoch 66/100\n",
            "38/38 [==============================] - 4s 114ms/step - loss: 0.0013\n",
            "Epoch 67/100\n",
            "38/38 [==============================] - 4s 114ms/step - loss: 0.0015\n",
            "Epoch 68/100\n",
            "38/38 [==============================] - 4s 115ms/step - loss: 0.0018\n",
            "Epoch 69/100\n",
            "38/38 [==============================] - 4s 114ms/step - loss: 0.0012\n",
            "Epoch 70/100\n",
            "38/38 [==============================] - 4s 114ms/step - loss: 0.0017\n",
            "Epoch 71/100\n",
            "38/38 [==============================] - 4s 115ms/step - loss: 0.0014\n",
            "Epoch 72/100\n",
            "38/38 [==============================] - 4s 115ms/step - loss: 0.0012\n",
            "Epoch 73/100\n",
            "38/38 [==============================] - 4s 115ms/step - loss: 0.0013\n",
            "Epoch 74/100\n",
            "38/38 [==============================] - 4s 114ms/step - loss: 0.0015\n",
            "Epoch 75/100\n",
            "38/38 [==============================] - 4s 115ms/step - loss: 0.0015\n",
            "Epoch 76/100\n",
            "38/38 [==============================] - 4s 115ms/step - loss: 0.0013\n",
            "Epoch 77/100\n",
            "38/38 [==============================] - 4s 117ms/step - loss: 0.0012\n",
            "Epoch 78/100\n",
            "38/38 [==============================] - 4s 115ms/step - loss: 0.0012\n",
            "Epoch 79/100\n",
            "38/38 [==============================] - 4s 116ms/step - loss: 0.0013\n",
            "Epoch 80/100\n",
            "38/38 [==============================] - 4s 117ms/step - loss: 0.0011\n",
            "Epoch 81/100\n",
            "38/38 [==============================] - 4s 116ms/step - loss: 0.0014\n",
            "Epoch 82/100\n",
            "38/38 [==============================] - 4s 117ms/step - loss: 0.0011\n",
            "Epoch 83/100\n",
            "38/38 [==============================] - 4s 116ms/step - loss: 0.0015\n",
            "Epoch 84/100\n",
            "38/38 [==============================] - 4s 117ms/step - loss: 0.0012\n",
            "Epoch 85/100\n",
            "38/38 [==============================] - 4s 117ms/step - loss: 0.0012\n",
            "Epoch 86/100\n",
            "38/38 [==============================] - 4s 115ms/step - loss: 0.0012\n",
            "Epoch 87/100\n",
            "38/38 [==============================] - 4s 116ms/step - loss: 0.0011\n",
            "Epoch 88/100\n",
            "38/38 [==============================] - 4s 116ms/step - loss: 0.0016\n",
            "Epoch 89/100\n",
            "38/38 [==============================] - 4s 117ms/step - loss: 0.0011\n",
            "Epoch 90/100\n",
            "38/38 [==============================] - 5s 118ms/step - loss: 0.0012\n",
            "Epoch 91/100\n",
            "38/38 [==============================] - 4s 115ms/step - loss: 9.5707e-04\n",
            "Epoch 92/100\n",
            "38/38 [==============================] - 4s 116ms/step - loss: 0.0011\n",
            "Epoch 93/100\n",
            "38/38 [==============================] - 4s 116ms/step - loss: 0.0012\n",
            "Epoch 94/100\n",
            "38/38 [==============================] - 4s 114ms/step - loss: 9.8568e-04\n",
            "Epoch 95/100\n",
            "38/38 [==============================] - 4s 114ms/step - loss: 0.0010\n",
            "Epoch 96/100\n",
            "38/38 [==============================] - 4s 117ms/step - loss: 0.0011\n",
            "Epoch 97/100\n",
            "38/38 [==============================] - 5s 118ms/step - loss: 8.3746e-04\n",
            "Epoch 98/100\n",
            "38/38 [==============================] - 4s 115ms/step - loss: 0.0011\n",
            "Epoch 99/100\n",
            "38/38 [==============================] - 4s 117ms/step - loss: 0.0012\n",
            "Epoch 100/100\n",
            "38/38 [==============================] - 4s 117ms/step - loss: 0.0011\n"
          ],
          "name": "stdout"
        },
        {
          "output_type": "execute_result",
          "data": {
            "text/plain": [
              "<keras.callbacks.History at 0x7fc8051db250>"
            ]
          },
          "metadata": {
            "tags": []
          },
          "execution_count": 26
        }
      ]
    },
    {
      "cell_type": "code",
      "metadata": {
        "id": "1ZAi3F8jOP3r"
      },
      "source": [
        "dataset_test =pd.read_csv(\"../content/testset.csv\")\n",
        "dataset_test"
      ],
      "execution_count": 27,
      "outputs": []
    },
    {
      "cell_type": "code",
      "metadata": {
        "id": "MQ1cOzOiOeYu"
      },
      "source": [
        "real_stock_price = dataset_test.iloc[:,1:2].values"
      ],
      "execution_count": 28,
      "outputs": []
    },
    {
      "cell_type": "code",
      "metadata": {
        "colab": {
          "base_uri": "https://localhost:8080/"
        },
        "id": "aKuSe2KEOikU",
        "outputId": "3410f002-64f4-46a0-aea5-da309bf85335"
      },
      "source": [
        "dataset_total = pd.concat((dataset_train['Open'],dataset_test['Open']),axis = 0)\n",
        "dataset_total"
      ],
      "execution_count": 29,
      "outputs": [
        {
          "output_type": "execute_result",
          "data": {
            "text/plain": [
              "0       357.385559\n",
              "1       360.122742\n",
              "2       362.313507\n",
              "3       365.348755\n",
              "4       365.393463\n",
              "          ...     \n",
              "120    1143.599976\n",
              "121    1128.000000\n",
              "122    1121.339966\n",
              "123    1102.089966\n",
              "124    1120.000000\n",
              "Name: Open, Length: 1384, dtype: float64"
            ]
          },
          "metadata": {
            "tags": []
          },
          "execution_count": 29
        }
      ]
    },
    {
      "cell_type": "code",
      "metadata": {
        "colab": {
          "base_uri": "https://localhost:8080/"
        },
        "id": "_LtunlydOkQJ",
        "outputId": "39f5cb4b-3bb1-49aa-9a3d-7163776618bf"
      },
      "source": [
        "inputs = dataset_total[len(dataset_total) - len(dataset_test)-60:].values\n",
        "inputs"
      ],
      "execution_count": 30,
      "outputs": [
        {
          "output_type": "execute_result",
          "data": {
            "text/plain": [
              "array([ 955.48999 ,  966.700012,  980.      ,  980.      ,  973.719971,\n",
              "        987.450012,  992.      ,  992.099976,  990.289978,  991.77002 ,\n",
              "        986.      ,  989.440002,  989.52002 ,  970.      ,  968.369995,\n",
              "        980.      , 1009.190002, 1014.      , 1015.219971, 1017.210022,\n",
              "       1021.76001 , 1022.109985, 1028.98999 , 1027.27002 , 1030.52002 ,\n",
              "       1033.98999 , 1026.459961, 1023.419983, 1022.590027, 1019.210022,\n",
              "       1022.52002 , 1034.01001 , 1020.26001 , 1023.309998, 1035.      ,\n",
              "       1035.869995, 1040.      , 1055.089966, 1042.680054, 1022.369995,\n",
              "       1015.799988, 1012.659973,  995.940002, 1001.5     , 1020.429993,\n",
              "       1037.48999 , 1035.5     , 1039.630005, 1046.119995, 1045.      ,\n",
              "       1054.609985, 1066.079956, 1075.199951, 1071.780029, 1064.949951,\n",
              "       1061.109985, 1058.069946, 1057.390015, 1051.599976, 1046.719971,\n",
              "       1048.339966, 1064.310059, 1088.      , 1094.      , 1102.22998 ,\n",
              "       1109.400024, 1097.099976, 1106.300049, 1102.410034, 1132.51001 ,\n",
              "       1126.219971, 1131.410034, 1131.829956, 1137.48999 , 1159.849976,\n",
              "       1177.329956, 1172.530029, 1175.079956, 1176.47998 , 1167.829956,\n",
              "       1170.569946, 1162.609985, 1122.      , 1090.599976, 1027.180054,\n",
              "       1081.540039, 1055.410034, 1017.25    , 1048.      , 1045.      ,\n",
              "       1048.949951, 1079.069946, 1088.410034, 1090.569946, 1106.469971,\n",
              "       1116.189941, 1112.640015, 1127.800049, 1141.23999 , 1123.030029,\n",
              "       1107.869995, 1053.079956, 1075.140015, 1099.219971, 1089.189941,\n",
              "       1115.319946, 1136.      , 1163.849976, 1170.      , 1145.209961,\n",
              "       1149.959961, 1154.140015, 1120.01001 , 1099.      , 1092.73999 ,\n",
              "       1081.880005, 1047.030029, 1046.      , 1063.      ,  998.      ,\n",
              "       1011.630005, 1022.820007, 1013.909973,  993.409973, 1041.329956,\n",
              "       1020.      , 1016.799988, 1026.439941, 1027.98999 , 1025.040039,\n",
              "       1040.880005, 1037.      , 1051.369995, 1077.430054, 1069.400024,\n",
              "       1082.      , 1077.859985, 1052.      , 1025.52002 , 1029.51001 ,\n",
              "       1046.      , 1030.01001 , 1013.659973, 1028.099976, 1019.      ,\n",
              "       1016.900024, 1049.22998 , 1058.540039, 1058.099976, 1086.030029,\n",
              "       1093.599976, 1100.      , 1090.      , 1077.310059, 1079.890015,\n",
              "       1061.859985, 1074.060059, 1083.560059, 1065.130005, 1079.      ,\n",
              "       1079.02002 , 1064.890015, 1063.030029, 1067.560059, 1099.349976,\n",
              "       1122.329956, 1140.98999 , 1142.170044, 1131.319946, 1118.180054,\n",
              "       1118.599976, 1131.069946, 1141.119995, 1143.849976, 1148.859985,\n",
              "       1143.650024, 1158.5     , 1175.310059, 1174.849976, 1159.140015,\n",
              "       1143.599976, 1128.      , 1121.339966, 1102.089966, 1120.      ])"
            ]
          },
          "metadata": {
            "tags": []
          },
          "execution_count": 30
        }
      ]
    },
    {
      "cell_type": "code",
      "metadata": {
        "id": "luCiQMmjOmDl"
      },
      "source": [
        "inputs = inputs.reshape(-1,1)\n",
        "inputs"
      ],
      "execution_count": 31,
      "outputs": []
    },
    {
      "cell_type": "code",
      "metadata": {
        "colab": {
          "base_uri": "https://localhost:8080/"
        },
        "id": "HhXjGiDVOnzI",
        "outputId": "420589e0-0f03-4af9-f660-a5d62ad2e729"
      },
      "source": [
        "inputs = sc.transform(inputs)\n",
        "inputs.shape"
      ],
      "execution_count": 32,
      "outputs": [
        {
          "output_type": "execute_result",
          "data": {
            "text/plain": [
              "(185, 1)"
            ]
          },
          "metadata": {
            "tags": []
          },
          "execution_count": 32
        }
      ]
    },
    {
      "cell_type": "code",
      "metadata": {
        "id": "krl8FTQyOxQ5"
      },
      "source": [
        "x_test = []\n",
        "for i in range(60,185):\n",
        "    x_test.append(inputs[i-60:i,0])"
      ],
      "execution_count": 33,
      "outputs": []
    },
    {
      "cell_type": "code",
      "metadata": {
        "colab": {
          "base_uri": "https://localhost:8080/"
        },
        "id": "99UUaHTyOy7G",
        "outputId": "a1cb795d-d82d-482c-ae9f-e4f71c428d81"
      },
      "source": [
        "x_test = np.array(x_test)\n",
        "x_test.shape"
      ],
      "execution_count": 34,
      "outputs": [
        {
          "output_type": "execute_result",
          "data": {
            "text/plain": [
              "(125, 60)"
            ]
          },
          "metadata": {
            "tags": []
          },
          "execution_count": 34
        }
      ]
    },
    {
      "cell_type": "code",
      "metadata": {
        "colab": {
          "base_uri": "https://localhost:8080/"
        },
        "id": "0mjYjCJqO0E8",
        "outputId": "d7351bf7-6828-4b9f-c029-4b14447d9389"
      },
      "source": [
        "x_test = np.reshape(x_test, (x_test.shape[0],x_test.shape[1],1))\n",
        "x_test.shape"
      ],
      "execution_count": 35,
      "outputs": [
        {
          "output_type": "execute_result",
          "data": {
            "text/plain": [
              "(125, 60, 1)"
            ]
          },
          "metadata": {
            "tags": []
          },
          "execution_count": 35
        }
      ]
    },
    {
      "cell_type": "code",
      "metadata": {
        "id": "sinFPqPwO1bu"
      },
      "source": [
        "predicted_price = regressor.predict(x_test)"
      ],
      "execution_count": 36,
      "outputs": []
    },
    {
      "cell_type": "code",
      "metadata": {
        "colab": {
          "base_uri": "https://localhost:8080/"
        },
        "id": "9ptyUcbYO27E",
        "outputId": "5f1d1cdf-c0d4-4231-e1b3-5ab55f9ed18d"
      },
      "source": [
        "predicted_price = sc.inverse_transform(predicted_price)\n",
        "predicted_price"
      ],
      "execution_count": 37,
      "outputs": [
        {
          "output_type": "execute_result",
          "data": {
            "text/plain": [
              "array([[1047.9213],\n",
              "       [1046.3955],\n",
              "       [1048.2776],\n",
              "       [1055.8965],\n",
              "       [1066.6274],\n",
              "       [1077.3768],\n",
              "       [1086.204 ],\n",
              "       [1089.872 ],\n",
              "       [1090.5983],\n",
              "       [1089.5458],\n",
              "       [1092.5227],\n",
              "       [1097.7021],\n",
              "       [1103.5504],\n",
              "       [1108.4774],\n",
              "       [1112.5737],\n",
              "       [1118.8585],\n",
              "       [1128.4028],\n",
              "       [1137.287 ],\n",
              "       [1143.607 ],\n",
              "       [1147.186 ],\n",
              "       [1147.4375],\n",
              "       [1146.3661],\n",
              "       [1144.3298],\n",
              "       [1136.7772],\n",
              "       [1122.7235],\n",
              "       [1099.2102],\n",
              "       [1081.579 ],\n",
              "       [1071.1829],\n",
              "       [1061.9564],\n",
              "       [1057.7357],\n",
              "       [1057.6478],\n",
              "       [1059.869 ],\n",
              "       [1066.3751],\n",
              "       [1075.3317],\n",
              "       [1083.1387],\n",
              "       [1089.7499],\n",
              "       [1095.4187],\n",
              "       [1098.6952],\n",
              "       [1101.7769],\n",
              "       [1106.6003],\n",
              "       [1109.2429],\n",
              "       [1107.2944],\n",
              "       [1095.1962],\n",
              "       [1081.9108],\n",
              "       [1076.3258],\n",
              "       [1077.258 ],\n",
              "       [1085.2335],\n",
              "       [1098.6841],\n",
              "       [1115.9607],\n",
              "       [1131.8943],\n",
              "       [1138.6841],\n",
              "       [1138.2039],\n",
              "       [1134.8335],\n",
              "       [1126.7074],\n",
              "       [1114.5156],\n",
              "       [1102.0513],\n",
              "       [1091.5801],\n",
              "       [1080.2474],\n",
              "       [1069.9427],\n",
              "       [1065.1654],\n",
              "       [1056.4421],\n",
              "       [1046.381 ],\n",
              "       [1039.4857],\n",
              "       [1035.3326],\n",
              "       [1030.0872],\n",
              "       [1030.6018],\n",
              "       [1032.7493],\n",
              "       [1033.384 ],\n",
              "       [1033.2908],\n",
              "       [1032.9639],\n",
              "       [1032.0048],\n",
              "       [1032.8561],\n",
              "       [1034.5118],\n",
              "       [1038.0305],\n",
              "       [1045.9749],\n",
              "       [1054.2308],\n",
              "       [1061.8098],\n",
              "       [1066.6825],\n",
              "       [1064.9064],\n",
              "       [1055.1943],\n",
              "       [1043.2357],\n",
              "       [1036.1785],\n",
              "       [1033.04  ],\n",
              "       [1030.2183],\n",
              "       [1029.3396],\n",
              "       [1028.9421],\n",
              "       [1028.1274],\n",
              "       [1031.558 ],\n",
              "       [1039.1658],\n",
              "       [1047.2614],\n",
              "       [1057.0166],\n",
              "       [1066.9883],\n",
              "       [1075.5087],\n",
              "       [1079.5668],\n",
              "       [1077.8654],\n",
              "       [1073.5264],\n",
              "       [1066.9064],\n",
              "       [1062.3777],\n",
              "       [1062.6481],\n",
              "       [1063.7906],\n",
              "       [1066.4073],\n",
              "       [1069.6233],\n",
              "       [1070.3182],\n",
              "       [1068.455 ],\n",
              "       [1066.1588],\n",
              "       [1069.18  ],\n",
              "       [1079.328 ],\n",
              "       [1094.4067],\n",
              "       [1108.5056],\n",
              "       [1116.1241],\n",
              "       [1115.6244],\n",
              "       [1110.6244],\n",
              "       [1106.8964],\n",
              "       [1107.6428],\n",
              "       [1112.1125],\n",
              "       [1118.5126],\n",
              "       [1123.6873],\n",
              "       [1128.7926],\n",
              "       [1135.6182],\n",
              "       [1142.2992],\n",
              "       [1144.8685],\n",
              "       [1141.7646],\n",
              "       [1133.8529],\n",
              "       [1124.3438],\n",
              "       [1114.0667]], dtype=float32)"
            ]
          },
          "metadata": {
            "tags": []
          },
          "execution_count": 37
        }
      ]
    },
    {
      "cell_type": "code",
      "metadata": {
        "colab": {
          "base_uri": "https://localhost:8080/",
          "height": 295
        },
        "id": "rqAkqnimO4oH",
        "outputId": "05bbecaa-5d4c-4fba-9343-8d895fa44810"
      },
      "source": [
        "plt.plot(real_stock_price,color = 'red', label = 'Real Price')\n",
        "plt.plot(predicted_price, color = 'blue', label = 'Predicted Price')\n",
        "plt.title('Google Stock Price Prediction')\n",
        "plt.xlabel('Time')\n",
        "plt.ylabel('Google Stock Price')\n",
        "plt.legend()\n",
        "plt.show()"
      ],
      "execution_count": 38,
      "outputs": [
        {
          "output_type": "display_data",
          "data": {
            "image/png": "[encoded data removed]",
            "text/plain": [
              "<Figure size 432x288 with 1 Axes>"
            ]
          },
          "metadata": {
            "tags": [],
            "needs_background": "light"
          }
        }
      ]
    },
    {
      "cell_type": "code",
      "metadata": {
        "id": "b61qOpPLO81t"
      },
      "source": [
        ""
      ],
      "execution_count": null,
      "outputs": []
    }
  ]
}